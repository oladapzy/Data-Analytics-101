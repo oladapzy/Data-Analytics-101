{
 "cells": [
  {
   "cell_type": "code",
   "execution_count": 134,
   "metadata": {},
   "outputs": [],
   "source": [
    "import csv\n",
    "import pandas as pd\n",
    "import matplotlib.pyplot as plt\n",
    "import numpy as np"
   ]
  },
  {
   "cell_type": "markdown",
   "metadata": {},
   "source": [
    "## This Project Dataset is pull from Chicago Dataset https://data.cityofchicago.org its the City-Owned-Land-Inventory"
   ]
  },
  {
   "cell_type": "code",
   "execution_count": 135,
   "metadata": {},
   "outputs": [],
   "source": [
    "## Reading the CSV file\n",
    "\n",
    "land = pd.read_csv('Land_Inventory.csv')"
   ]
  },
  {
   "cell_type": "code",
   "execution_count": 136,
   "metadata": {},
   "outputs": [
    {
     "data": {
      "text/plain": [
       "(19565, 25)"
      ]
     },
     "execution_count": 136,
     "metadata": {},
     "output_type": "execute_result"
    }
   ],
   "source": [
    "## Total rows and columns\n",
    "\n",
    "land.shape"
   ]
  },
  {
   "cell_type": "code",
   "execution_count": 137,
   "metadata": {},
   "outputs": [
    {
     "data": {
      "text/html": [
       "<div>\n",
       "<style scoped>\n",
       "    .dataframe tbody tr th:only-of-type {\n",
       "        vertical-align: middle;\n",
       "    }\n",
       "\n",
       "    .dataframe tbody tr th {\n",
       "        vertical-align: top;\n",
       "    }\n",
       "\n",
       "    .dataframe thead th {\n",
       "        text-align: right;\n",
       "    }\n",
       "</style>\n",
       "<table border=\"1\" class=\"dataframe\">\n",
       "  <thead>\n",
       "    <tr style=\"text-align: right;\">\n",
       "      <th></th>\n",
       "      <th>ID</th>\n",
       "      <th>PIN</th>\n",
       "      <th>Address</th>\n",
       "      <th>Legal Description</th>\n",
       "      <th>Property Status</th>\n",
       "      <th>Date of Acquisition</th>\n",
       "      <th>Date of Disposition</th>\n",
       "      <th>Sq. Ft.</th>\n",
       "      <th>Ward</th>\n",
       "      <th>Community Area Number</th>\n",
       "      <th>...</th>\n",
       "      <th>Y Coordinate</th>\n",
       "      <th>Latitude</th>\n",
       "      <th>Longitude</th>\n",
       "      <th>Location</th>\n",
       "      <th>Boundaries - ZIP Codes</th>\n",
       "      <th>Community Areas</th>\n",
       "      <th>Zip Codes</th>\n",
       "      <th>Census Tracts</th>\n",
       "      <th>Wards</th>\n",
       "      <th>:@computed_region_awaf_s7ux</th>\n",
       "    </tr>\n",
       "  </thead>\n",
       "  <tbody>\n",
       "    <tr>\n",
       "      <th>0</th>\n",
       "      <td>7473</td>\n",
       "      <td>10-25-316-022-0000</td>\n",
       "      <td>7201 N KEDZIE AVE</td>\n",
       "      <td>NaN</td>\n",
       "      <td>Owned by City</td>\n",
       "      <td>NaN</td>\n",
       "      <td>NaN</td>\n",
       "      <td>0.0</td>\n",
       "      <td>50.0</td>\n",
       "      <td>2.0</td>\n",
       "      <td>...</td>\n",
       "      <td>1948231.698</td>\n",
       "      <td>42.013783</td>\n",
       "      <td>-87.708776</td>\n",
       "      <td>(42.01378293067369, -87.7087765099036)</td>\n",
       "      <td>12.0</td>\n",
       "      <td>20.0</td>\n",
       "      <td>22528.0</td>\n",
       "      <td>359.0</td>\n",
       "      <td>27.0</td>\n",
       "      <td>42.0</td>\n",
       "    </tr>\n",
       "    <tr>\n",
       "      <th>1</th>\n",
       "      <td>66030</td>\n",
       "      <td>10-33-325-026-0000</td>\n",
       "      <td>6430 N LEHIGH AVE</td>\n",
       "      <td>NaN</td>\n",
       "      <td>Owned by City</td>\n",
       "      <td>NaN</td>\n",
       "      <td>NaN</td>\n",
       "      <td>0.0</td>\n",
       "      <td>41.0</td>\n",
       "      <td>12.0</td>\n",
       "      <td>...</td>\n",
       "      <td>1942427.322</td>\n",
       "      <td>41.998154</td>\n",
       "      <td>-87.766534</td>\n",
       "      <td>(41.998154348920544, -87.76653450120544)</td>\n",
       "      <td>18.0</td>\n",
       "      <td>12.0</td>\n",
       "      <td>22532.0</td>\n",
       "      <td>781.0</td>\n",
       "      <td>29.0</td>\n",
       "      <td>34.0</td>\n",
       "    </tr>\n",
       "  </tbody>\n",
       "</table>\n",
       "<p>2 rows × 25 columns</p>\n",
       "</div>"
      ],
      "text/plain": [
       "      ID                 PIN            Address Legal Description  \\\n",
       "0   7473  10-25-316-022-0000  7201 N KEDZIE AVE               NaN   \n",
       "1  66030  10-33-325-026-0000  6430 N LEHIGH AVE               NaN   \n",
       "\n",
       "  Property Status Date of Acquisition Date of Disposition  Sq. Ft.  Ward  \\\n",
       "0   Owned by City                 NaN                 NaN      0.0  50.0   \n",
       "1   Owned by City                 NaN                 NaN      0.0  41.0   \n",
       "\n",
       "   Community Area Number  ... Y Coordinate   Latitude  Longitude  \\\n",
       "0                    2.0  ...  1948231.698  42.013783 -87.708776   \n",
       "1                   12.0  ...  1942427.322  41.998154 -87.766534   \n",
       "\n",
       "                                   Location  Boundaries - ZIP Codes  \\\n",
       "0    (42.01378293067369, -87.7087765099036)                    12.0   \n",
       "1  (41.998154348920544, -87.76653450120544)                    18.0   \n",
       "\n",
       "   Community Areas  Zip Codes  Census Tracts Wards  \\\n",
       "0             20.0    22528.0          359.0  27.0   \n",
       "1             12.0    22532.0          781.0  29.0   \n",
       "\n",
       "   :@computed_region_awaf_s7ux  \n",
       "0                         42.0  \n",
       "1                         34.0  \n",
       "\n",
       "[2 rows x 25 columns]"
      ]
     },
     "execution_count": 137,
     "metadata": {},
     "output_type": "execute_result"
    }
   ],
   "source": [
    "## Displaying the first two in the list\n",
    "\n",
    "land.head(2)"
   ]
  },
  {
   "cell_type": "markdown",
   "metadata": {},
   "source": [
    "## The focus is the [Property Status, Community Area, and the Address]"
   ]
  },
  {
   "cell_type": "code",
   "execution_count": 138,
   "metadata": {},
   "outputs": [
    {
     "data": {
      "text/plain": [
       "Owned by City     14196\n",
       "Sold               4404\n",
       "Not City Owned      831\n",
       "In Acquisition       16\n",
       "Leased                3\n",
       "Name: Property Status, dtype: int64"
      ]
     },
     "execution_count": 138,
     "metadata": {},
     "output_type": "execute_result"
    }
   ],
   "source": [
    "## Total lands Owned by the city, Total land sold, Total land not Owned by the City, Total In aquisation and Total Leased Land\n",
    "\n",
    "land['Property Status'].value_counts()"
   ]
  },
  {
   "cell_type": "markdown",
   "metadata": {},
   "source": [
    "## The top most and Least community Area where lands are available and sold"
   ]
  },
  {
   "cell_type": "code",
   "execution_count": 139,
   "metadata": {},
   "outputs": [
    {
     "data": {
      "text/plain": [
       "ENGLEWOOD                 1939\n",
       "NEW CITY                  1371\n",
       "NORTH LAWNDALE            1354\n",
       "WEST ENGLEWOOD            1339\n",
       "EAST GARFIELD PARK         991\n",
       "NEAR WEST SIDE             830\n",
       "GRAND BOULEVARD            801\n",
       "AUSTIN                     617\n",
       "SOUTH CHICAGO              614\n",
       "WEST PULLMAN               607\n",
       "HUMBOLDT PARK              565\n",
       "WASHINGTON PARK            549\n",
       "ROSELAND                   528\n",
       "WOODLAWN                   526\n",
       "WEST GARFIELD PARK         526\n",
       "GREATER GRAND CROSSING     449\n",
       "AUBURN GRESHAM             336\n",
       "FULLER PARK                297\n",
       "MORGAN PARK                249\n",
       "DOUGLAS                    236\n",
       "SOUTH SHORE                222\n",
       "SOUTH DEERING              192\n",
       "RIVERDALE                  148\n",
       "WEST TOWN                  136\n",
       "OAKLAND                    130\n",
       "CHATHAM                    119\n",
       "SOUTH LAWNDALE             118\n",
       "CHICAGO LAWN               115\n",
       "NEAR NORTH SIDE            112\n",
       "WASHINGTON HEIGHTS         107\n",
       "                          ... \n",
       "MCKINLEY PARK               35\n",
       "ROGERS PARK                 33\n",
       "EDGEWATER                   31\n",
       "GARFIELD RIDGE              30\n",
       "BELMONT CRAGIN              29\n",
       "CALUMET HEIGHTS             29\n",
       "ARMOUR SQUARE               27\n",
       "LAKE VIEW                   27\n",
       "PORTAGE PARK                27\n",
       "UPTOWN                      26\n",
       "LINCOLN PARK                22\n",
       "ASHBURN                     22\n",
       "AVONDALE                    20\n",
       "BRIGHTON PARK               19\n",
       "WEST LAWN                   18\n",
       "NORTH CENTER                14\n",
       "CLEARING                    14\n",
       "WEST RIDGE                  11\n",
       "IRVING PARK                  9\n",
       "DUNNING                      8\n",
       "HYDE PARK                    8\n",
       "JEFFERSON PARK               8\n",
       "FOREST GLEN                  6\n",
       "ARCHER HEIGHTS               6\n",
       "HERMOSA                      6\n",
       "NORWOOD PARK                 6\n",
       "MOUNT GREENWOOD              4\n",
       "NORTH PARK                   4\n",
       "WEST ELSDON                  2\n",
       "MONTCLARE                    1\n",
       "Name: Community Area Name, Length: 75, dtype: int64"
      ]
     },
     "execution_count": 139,
     "metadata": {},
     "output_type": "execute_result"
    }
   ],
   "source": [
    "## Most and least area where lands are available and sold\n",
    "\n",
    "land['Community Area Name'].value_counts()"
   ]
  },
  {
   "cell_type": "markdown",
   "metadata": {},
   "source": [
    "## Cleaning up and filtering the data to get Properties and the Community Area"
   ]
  },
  {
   "cell_type": "code",
   "execution_count": 147,
   "metadata": {},
   "outputs": [
    {
     "data": {
      "text/html": [
       "<div>\n",
       "<style scoped>\n",
       "    .dataframe tbody tr th:only-of-type {\n",
       "        vertical-align: middle;\n",
       "    }\n",
       "\n",
       "    .dataframe tbody tr th {\n",
       "        vertical-align: top;\n",
       "    }\n",
       "\n",
       "    .dataframe thead th {\n",
       "        text-align: right;\n",
       "    }\n",
       "</style>\n",
       "<table border=\"1\" class=\"dataframe\">\n",
       "  <thead>\n",
       "    <tr style=\"text-align: right;\">\n",
       "      <th></th>\n",
       "      <th>Community_Area</th>\n",
       "      <th>Property_Status</th>\n",
       "      <th>counts</th>\n",
       "      <th>Total_count</th>\n",
       "    </tr>\n",
       "  </thead>\n",
       "  <tbody>\n",
       "    <tr>\n",
       "      <th>0</th>\n",
       "      <td>Community Area Name</td>\n",
       "      <td>Property Status</td>\n",
       "      <td>count</td>\n",
       "      <td>count</td>\n",
       "    </tr>\n",
       "    <tr>\n",
       "      <th>1</th>\n",
       "      <td>ALBANY PARK</td>\n",
       "      <td>Owned by City</td>\n",
       "      <td>1</td>\n",
       "      <td>47</td>\n",
       "    </tr>\n",
       "    <tr>\n",
       "      <th>2</th>\n",
       "      <td>ALBANY PARK</td>\n",
       "      <td>Sold</td>\n",
       "      <td>1</td>\n",
       "      <td>7</td>\n",
       "    </tr>\n",
       "    <tr>\n",
       "      <th>3</th>\n",
       "      <td>ARCHER HEIGHTS</td>\n",
       "      <td>Owned by City</td>\n",
       "      <td>1</td>\n",
       "      <td>6</td>\n",
       "    </tr>\n",
       "    <tr>\n",
       "      <th>4</th>\n",
       "      <td>ARMOUR SQUARE</td>\n",
       "      <td>Owned by City</td>\n",
       "      <td>1</td>\n",
       "      <td>17</td>\n",
       "    </tr>\n",
       "  </tbody>\n",
       "</table>\n",
       "</div>"
      ],
      "text/plain": [
       "        Community_Area  Property_Status counts Total_count\n",
       "0  Community Area Name  Property Status  count       count\n",
       "1          ALBANY PARK    Owned by City      1          47\n",
       "2          ALBANY PARK             Sold      1           7\n",
       "3       ARCHER HEIGHTS    Owned by City      1           6\n",
       "4        ARMOUR SQUARE    Owned by City      1          17"
      ]
     },
     "execution_count": 147,
     "metadata": {},
     "output_type": "execute_result"
    }
   ],
   "source": [
    "## cleaning up the data and creating header\n",
    "\n",
    "land['count'] = 1\n",
    "new_mod = land.groupby(['Community Area Name', 'Property Status'])['count'].value_counts()\n",
    "filter_1 = new_mod.to_csv('filter_1.csv', header=True)\n",
    "col_Names=[\"Community_Area\", \"Property_Status\",'counts', 'Total_count']\n",
    "mod_2 = pd.read_csv(\"filter_1.csv\",names=col_Names)\n",
    "mod_2.head()"
   ]
  },
  {
   "cell_type": "code",
   "execution_count": 13,
   "metadata": {},
   "outputs": [],
   "source": [
    "## Modified Data\n",
    "\n",
    "filted = mod_2.to_csv('filter_2.csv')\n",
    "df = pd.read_csv('filter_2.csv')"
   ]
  },
  {
   "cell_type": "code",
   "execution_count": 15,
   "metadata": {},
   "outputs": [
    {
     "data": {
      "text/plain": [
       "Community_Area     184\n",
       "Property_Status    184\n",
       "Total_count        184\n",
       "dtype: int64"
      ]
     },
     "execution_count": 15,
     "metadata": {},
     "output_type": "execute_result"
    }
   ],
   "source": [
    "## Total list after group count is 184\n",
    "df[['Community_Area', 'Property_Status', 'Total_count']].count()"
   ]
  },
  {
   "cell_type": "code",
   "execution_count": 16,
   "metadata": {},
   "outputs": [
    {
     "data": {
      "text/plain": [
       "1386"
      ]
     },
     "execution_count": 16,
     "metadata": {},
     "output_type": "execute_result"
    }
   ],
   "source": [
    "## Englewood community has the highest number of property for sell in the list 1388 property\n",
    "\n",
    "df[df['Property_Status'] == 'Owned by City'].Total_count.max()"
   ]
  },
  {
   "cell_type": "code",
   "execution_count": 118,
   "metadata": {},
   "outputs": [
    {
     "data": {
      "text/plain": [
       "481"
      ]
     },
     "execution_count": 118,
     "metadata": {},
     "output_type": "execute_result"
    }
   ],
   "source": [
    "## Englewood community has most sold property 481 Sold\n",
    "\n",
    "df[df['Property_Status'] == 'Sold'].Total_count.max()"
   ]
  },
  {
   "cell_type": "code",
   "execution_count": 146,
   "metadata": {},
   "outputs": [],
   "source": [
    "df.groupby(['Community_Area','Property_Status', 'Total_count']).Total_count.max().to_csv('Filter_3.csv', header=True)\n",
    "header_name = ['Community_Area', 'poperty_Staus', 'Total_count', 'Num']\n",
    "last_modify = pd.read_csv('Filter_3.csv', names = header_name)"
   ]
  },
  {
   "cell_type": "code",
   "execution_count": 150,
   "metadata": {},
   "outputs": [
    {
     "data": {
      "text/plain": [
       "Community_Area      Property_Status\n",
       "ALBANY PARK         Owned by City        47\n",
       "                    Sold                  7\n",
       "ARCHER HEIGHTS      Owned by City         6\n",
       "ARMOUR SQUARE       Owned by City        17\n",
       "                    Sold                 10\n",
       "ASHBURN             Owned by City        22\n",
       "AUBURN GRESHAM      Not City Owned       14\n",
       "                    Owned by City       219\n",
       "                    Sold                103\n",
       "AUSTIN              In Acquisition        1\n",
       "                    Not City Owned        3\n",
       "                    Owned by City       359\n",
       "                    Sold                248\n",
       "AVALON PARK         Not City Owned       23\n",
       "                    Owned by City        37\n",
       "                    Sold                 12\n",
       "AVONDALE            Owned by City        14\n",
       "                    Sold                  6\n",
       "BELMONT CRAGIN      Owned by City        24\n",
       "                    Sold                  5\n",
       "BEVERLY             Owned by City        34\n",
       "                    Sold                  9\n",
       "BRIDGEPORT          Owned by City        45\n",
       "                    Sold                 12\n",
       "BRIGHTON PARK       Owned by City        16\n",
       "                    Sold                  3\n",
       "BURNSIDE            Not City Owned        1\n",
       "                    Owned by City        33\n",
       "                    Sold                 13\n",
       "CALUMET HEIGHTS     Not City Owned        3\n",
       "                                       ... \n",
       "SOUTH SHORE         Owned by City       172\n",
       "                    Sold                 48\n",
       "UPTOWN              Leased                1\n",
       "                    Owned by City        17\n",
       "                    Sold                  8\n",
       "WASHINGTON HEIGHTS  Not City Owned       11\n",
       "                    Owned by City        60\n",
       "                    Sold                 36\n",
       "WASHINGTON PARK     Owned by City       477\n",
       "                    Sold                 72\n",
       "WEST ELSDON         Owned by City         2\n",
       "WEST ENGLEWOOD      In Acquisition        2\n",
       "                    Not City Owned       31\n",
       "                    Owned by City      1075\n",
       "                    Sold                227\n",
       "WEST GARFIELD PARK  Not City Owned        4\n",
       "                    Owned by City       420\n",
       "                    Sold                 99\n",
       "WEST LAWN           Owned by City        16\n",
       "                    Sold                  2\n",
       "WEST PULLMAN        Not City Owned       27\n",
       "                    Owned by City       479\n",
       "                    Sold                 97\n",
       "WEST RIDGE          Owned by City        11\n",
       "WEST TOWN           Not City Owned        4\n",
       "                    Owned by City        86\n",
       "                    Sold                 46\n",
       "WOODLAWN            In Acquisition        1\n",
       "                    Owned by City       355\n",
       "                    Sold                159\n",
       "Name: Total_count, Length: 184, dtype: int64"
      ]
     },
     "execution_count": 150,
     "metadata": {},
     "output_type": "execute_result"
    }
   ],
   "source": [
    "## Using groupby method, we get the result of each community and property Status\n",
    "last = df.groupby(['Community_Area', 'Property_Status']).Total_count.max()\n",
    "last"
   ]
  },
  {
   "cell_type": "code",
   "execution_count": 151,
   "metadata": {},
   "outputs": [],
   "source": [
    "last_1 = last.to_csv('Filtered.csv', header=True)"
   ]
  },
  {
   "cell_type": "markdown",
   "metadata": {},
   "source": [
    "## What I found out at the end of this project is"
   ]
  },
  {
   "cell_type": "raw",
   "metadata": {},
   "source": [
    "(1) Englewood has the highest number of land total 1386 Owned by the City minus the 481 sold, So that leave 905 still available \n",
    "(2) Montclare has the least land available which is 1 and it has been sold out\n",
    "(3)line 126 shows the top 20 community that has the hightest and the lowest land available for sell or sold already"
   ]
  },
  {
   "cell_type": "code",
   "execution_count": null,
   "metadata": {},
   "outputs": [],
   "source": []
  }
 ],
 "metadata": {
  "kernelspec": {
   "display_name": "Python 3",
   "language": "python",
   "name": "python3"
  },
  "language_info": {
   "codemirror_mode": {
    "name": "ipython",
    "version": 3
   },
   "file_extension": ".py",
   "mimetype": "text/x-python",
   "name": "python",
   "nbconvert_exporter": "python",
   "pygments_lexer": "ipython3",
   "version": "3.7.3"
  }
 },
 "nbformat": 4,
 "nbformat_minor": 4
}
